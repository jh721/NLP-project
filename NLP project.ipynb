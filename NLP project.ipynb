{
  "cells": [
    {
      "cell_type": "code",
      "execution_count": null,
      "metadata": {
        "colab": {
          "base_uri": "https://localhost:8080/"
        },
        "id": "m900qjviJvl1",
        "outputId": "7b0bc67f-24b2-4626-de08-4d058ae1a594"
      },
      "outputs": [
        {
          "output_type": "stream",
          "name": "stdout",
          "text": [
            "Drive already mounted at /content/drive; to attempt to forcibly remount, call drive.mount(\"/content/drive\", force_remount=True).\n"
          ]
        }
      ],
      "source": [
        "from google.colab import drive\n",
        "drive.mount('/content/drive')"
      ]
    },
    {
      "cell_type": "code",
      "execution_count": null,
      "metadata": {
        "id": "BhcZfJdSUzHs"
      },
      "outputs": [],
      "source": [
        "%matplotlib inline\n",
        "\n",
        "import matplotlib.pyplot as plt\n",
        "import numpy as np\n",
        "import torch\n",
        "import torch.nn as nn\n",
        "import torch.nn.functional as F\n",
        "from torch.utils.data import TensorDataset, DataLoader\n",
        "from torch import optim\n",
        "import random\n",
        "from pathlib import Path\n",
        "import time\n",
        "import librosa\n",
        "from sklearn.model_selection import train_test_split\n",
        "import pickle\n",
        "import cv2\n",
        "from copy import deepcopy"
      ]
    },
    {
      "cell_type": "code",
      "execution_count": null,
      "metadata": {
        "id": "Cbv9egkYFYaF"
      },
      "outputs": [],
      "source": [
        "#melspectrogram\n",
        "\n",
        "def get_melspectrogram(audio, sr=44100):\n",
        "  mel_sgram = librosa.feature.melspectrogram(y=audio, sr=sr)\n",
        "  mel_db_sgram = librosa.power_to_db(mel_sgram, ref=np.median)\n",
        "  return mel_db_sgram"
      ]
    },
    {
      "cell_type": "code",
      "execution_count": null,
      "metadata": {
        "id": "wMDrmcEmFYaG"
      },
      "outputs": [],
      "source": [
        "#audio augmentation\n",
        "\n",
        "def add_noise(audio, noise_limit):\n",
        "  noise = np.random.randn(len(audio))   #np.random.randn: Gaussian distribution\n",
        "  noise_audio = audio + noise * noise_limit\n",
        "  return noise_audio\n",
        "\n",
        "def shift_time(audio, shift_time_limit, remove_out_data, sr=44100):   #-0.5<=shift_time_limit<=0.5\n",
        "  shift_time = (2*np.random.random()-1) * shift_time_limit   #np.random.random(): [0.0 , 1.0)\n",
        "  shift_rate = int(shift_time * sr)\n",
        "  shifted_audio = np.roll(audio, shift_rate)\n",
        "  if remove_out_data == True:\n",
        "    if shift_rate > 0:\n",
        "      shifted_audio[:shift_rate] = 0\n",
        "    else:\n",
        "      shifted_audio[shift_rate:] = 0\n",
        "  return shifted_audio\n",
        "\n",
        "def change_pitch(audio, n_steps, sr=44100):\n",
        "  return librosa.effects.pitch_shift(audio, sr=sr, n_steps=n_steps)\n",
        "\n",
        "def stretch_time(audio, rate):\n",
        "  return librosa.effects.time_stretch(audio, rate=rate)"
      ]
    },
    {
      "cell_type": "code",
      "source": [
        "#spectrogram augmentation\n",
        "\n",
        "def time_masking(sgram, param):\n",
        "  length = np.random.randint(param)\n",
        "  start = np.random.randint(sgram.shape[1]-length)\n",
        "  mask = np.zeros(sgram.shape)\n",
        "  mask[:,start:start+length] = sgram[:,start:start+length] - sgram.min()\n",
        "  mask_sgram = sgram - mask\n",
        "  return mask_sgram\n",
        "\n",
        "def freq_masking(sgram, param):\n",
        "  length = np.random.randint(param)\n",
        "  start = np.random.randint(sgram.shape[0]-length)\n",
        "  mask = np.zeros(sgram.shape)\n",
        "  mask[start:start+length,:] = sgram[start:start+length,:] - sgram.min()\n",
        "  mask_sgram = sgram - mask\n",
        "  return mask_sgram"
      ],
      "metadata": {
        "id": "XS9K9dc_jqXl"
      },
      "execution_count": null,
      "outputs": []
    },
    {
      "cell_type": "code",
      "execution_count": null,
      "metadata": {
        "id": "YUJngSMvRyFk"
      },
      "outputs": [],
      "source": [
        "#set IRMAS-path\n",
        "\n",
        "#IRMAS_path = \"/Users/munchaeyong/Desktop/deep_learning/IRMAS-TrainingData\"   #change to your directory\n",
        "IRMAS_path = \"/content/drive/MyDrive/IRMAS\""
      ]
    },
    {
      "cell_type": "code",
      "execution_count": null,
      "metadata": {
        "id": "c2hAYeBEFYaG"
      },
      "outputs": [],
      "source": [
        "#DON'T RUN IF NOT NECESSARY\n",
        "#make IRMAS-TrainingData\n",
        "\n",
        "Y = []\n",
        "X_raw = []\n",
        "\n",
        "DATADIR = Path(IRMAS_path)\n",
        "for dir in list(DATADIR.iterdir()):\n",
        "  if \"txt\" in str(dir):\n",
        "    continue\n",
        "  label = dir.name\n",
        "  start = time.time()\n",
        "  print(f\"{label} start\")\n",
        "  for audio_file in list(dir.glob(\"*.wav\")):\n",
        "    audio, sr = librosa.load(str(audio_file), sr=None)\n",
        "    X_raw.append(audio)\n",
        "    Y.append(label)\n",
        "  print(f\"{label} finish: {time.time() - start}\")\n",
        "\n",
        "#label encoding\n",
        "label_encoding_dic = {\"cel\":0, \"cla\":1, \"flu\":2, \"gac\":3, \"gel\":4, \"org\":5, \"pia\":6, \"sax\":7, \"tru\":8, \"vio\":9, \"voi\":10}\n",
        "Y_label_enc = [label_encoding_dic[i] for i in Y]\n",
        "\n",
        "print(len(X_raw))"
      ]
    },
    {
      "cell_type": "code",
      "execution_count": null,
      "metadata": {
        "id": "g3N-KGZbjjtP"
      },
      "outputs": [],
      "source": [
        "#DON'T RUN IF NOT NECESSARY\n",
        "#make test set\n",
        "\n",
        "X_train_val, X_test, Y_train_val, Y_test = train_test_split(X_raw, Y_label_enc, test_size = 0.2)"
      ]
    },
    {
      "cell_type": "code",
      "execution_count": null,
      "metadata": {
        "id": "e7pKjDFaULzm"
      },
      "outputs": [],
      "source": [
        "#DON'T RUN IF NOT NECESSARY\n",
        "#save train_val, test pickle data\n",
        "\n",
        "file_name = IRMAS_path + \"/X_train_val.pickle\"\n",
        "with open(file_name,\"wb\") as fw:\n",
        "  pickle.dump(X_train_val, fw)\n",
        "\n",
        "file_name = IRMAS_path + \"/X_test.pickle\"\n",
        "with open(file_name,\"wb\") as fw:\n",
        "  pickle.dump(X_test, fw)"
      ]
    },
    {
      "cell_type": "code",
      "execution_count": null,
      "metadata": {
        "id": "y6OsxMSl68-L"
      },
      "outputs": [],
      "source": [
        "#DON'T RUN IF NOT NECESSARY\n",
        "#save Y_label_encoded pickle data\n",
        "\n",
        "file_name = IRMAS_path + \"/Y_train_val.pickle\"\n",
        "with open(file_name,\"wb\") as fw:\n",
        "  pickle.dump(Y_train_val, fw)\n",
        "\n",
        "file_name = IRMAS_path + \"/Y_test.pickle\"\n",
        "with open(file_name,\"wb\") as fw:\n",
        "  pickle.dump(Y_test, fw)"
      ]
    },
    {
      "cell_type": "code",
      "execution_count": null,
      "metadata": {
        "id": "I9aTGVxfceua"
      },
      "outputs": [],
      "source": [
        "#DON'T RUN IF NOT NECESSARY\n",
        "#load train_val, test pickle data\n",
        "\n",
        "with open(IRMAS_path + \"/X_train_val.pickle\",\"rb\") as fr:\n",
        "  X_train_val_load = pickle.load(fr)\n",
        "with open(IRMAS_path + \"/X_test.pickle\",\"rb\") as fr:\n",
        "  X_test_load = pickle.load(fr)"
      ]
    },
    {
      "cell_type": "code",
      "execution_count": null,
      "metadata": {
        "id": "NjQuOV3sfW5y"
      },
      "outputs": [],
      "source": [
        "#load label pickle data\n",
        "\n",
        "with open(IRMAS_path + \"/Y_train_val.pickle\",\"rb\") as fr:\n",
        "  Y_train_val_load = pickle.load(fr)\n",
        "with open(IRMAS_path + \"/Y_test.pickle\",\"rb\") as fr:\n",
        "  Y_test_load = pickle.load(fr)"
      ]
    },
    {
      "cell_type": "code",
      "execution_count": null,
      "metadata": {
        "id": "PS91VbqP5uwO"
      },
      "outputs": [],
      "source": [
        "#DON'T RUN IF NOT NECESSARY\n",
        "#save train_val, test mel pickle data\n",
        "\n",
        "X_train_val_mel = [get_melspectrogram(x) for x in X_train_val_load]\n",
        "\n",
        "file_name = IRMAS_path + \"/X_train_val_mel.pickle\"\n",
        "with open(file_name,\"wb\") as fw:\n",
        "  pickle.dump(X_train_val_mel, fw)\n",
        "\n",
        "X_test_mel = [get_melspectrogram(x) for x in X_test_load]\n",
        "\n",
        "file_name = IRMAS_path + \"/X_test_mel.pickle\"\n",
        "with open(file_name,\"wb\") as fw:\n",
        "  pickle.dump(X_test_mel, fw)"
      ]
    },
    {
      "cell_type": "code",
      "execution_count": null,
      "metadata": {
        "id": "wIlphgVEfnnX"
      },
      "outputs": [],
      "source": [
        "#DON'T RUN IF NOT NECESSARY\n",
        "#save shifted mel pickle data\n",
        "\n",
        "shift_time_limit = -0.4   #-0.5<=shift_time_limit<=0.5\n",
        "remove_out_data = False\n",
        "\n",
        "X_shifted = [shift_time(x, shift_time_limit, remove_out_data) for x in X_train_val_load]\n",
        "X_shifted_mel = [get_melspectrogram(x_shifted) for x_shifted in X_shifted]\n",
        "\n",
        "file_name = IRMAS_path + \"/aug/X_shifted_mel_\" + str(shift_time_limit) + \"_\" + str(remove_out_data) + \".pickle\"\n",
        "with open(file_name,\"wb\") as fw:\n",
        "  pickle.dump(X_shifted_mel, fw)"
      ]
    },
    {
      "cell_type": "code",
      "execution_count": null,
      "metadata": {
        "id": "dNT0RCv8lo5Z"
      },
      "outputs": [],
      "source": [
        "#DON'T RUN IF NOT NECESSARY\n",
        "#save pitch_changed mel pickle data\n",
        "\n",
        "pitch_change = 5\n",
        "\n",
        "X_pitch_changed = [change_pitch(x, pitch_change) for x in X_train_val_load]\n",
        "X_pitch_changed_mel = [get_melspectrogram(x_pitch_changed) for x_pitch_changed in X_pitch_changed]\n",
        "\n",
        "file_name = IRMAS_path + \"/aug/X_pitch_changed_mel_\" + str(pitch_change) + \".pickle\"\n",
        "with open(file_name,\"wb\") as fw:\n",
        "  pickle.dump(X_pitch_changed_mel, fw)"
      ]
    },
    {
      "cell_type": "code",
      "execution_count": null,
      "metadata": {
        "id": "zOLEr3EKvr3v"
      },
      "outputs": [],
      "source": [
        "#DON'T RUN IF NOT NECESSARY\n",
        "#save stretched mel pickle data\n",
        "\n",
        "rate = 1.5\n",
        "\n",
        "X_stretched = [stretch_time(x, rate) for x in X_train_val_load]  \n",
        "X_stretched_mel = [get_melspectrogram(x_stretched) for x_stretched in X_stretched]\n",
        "file_name = IRMAS_path + \"/aug/X_stretched_mel_\" + str(rate) + \".pickle\"\n",
        "with open(file_name,\"wb\") as fw:\n",
        "  pickle.dump(X_stretched_mel, fw)"
      ]
    },
    {
      "cell_type": "code",
      "execution_count": null,
      "metadata": {
        "id": "EJU4edUamvyq"
      },
      "outputs": [],
      "source": [
        "#load train_val, test mel pickle data\n",
        "\n",
        "file_name = IRMAS_path + \"/X_train_val_mel.pickle\"\n",
        "with open(file_name, \"rb\") as fr:\n",
        "  X_train_val_mel_load = pickle.load(fr)\n",
        "\n",
        "file_name = IRMAS_path + \"/X_test_mel.pickle\"\n",
        "with open(file_name, \"rb\") as fr:\n",
        "  X_test_mel_load = pickle.load(fr)"
      ]
    },
    {
      "cell_type": "code",
      "execution_count": null,
      "metadata": {
        "id": "bgtOJb7HFWAG"
      },
      "outputs": [],
      "source": [
        "#DON'T RUN IF NOT NECESSARY\n",
        "#load shifted mel pickle data\n",
        "\n",
        "shift_time_limit = -0.2\n",
        "remove_out_data = False\n",
        "\n",
        "file_name = IRMAS_path + \"/aug/X_shifted_mel_\" + str(shift_time_limit) + \"_\" + str(remove_out_data) + \".pickle\"\n",
        "with open(file_name,\"rb\") as fr:\n",
        "  #name_you_want = pickle.load(fr)\n",
        "  X_shifted_mel__2_load = pickle.load(fr)"
      ]
    },
    {
      "cell_type": "code",
      "execution_count": null,
      "metadata": {
        "id": "MhXRayK3hyaN"
      },
      "outputs": [],
      "source": [
        "#DON'T RUN IF NOT NECESSARY\n",
        "#load pitch_changed mel pickle data\n",
        "\n",
        "pitch_change = 1\n",
        "\n",
        "file_name = IRMAS_path + \"/aug/X_pitch_changed_mel_\" + str(pitch_change) + \".pickle\"\n",
        "with open(file_name,\"rb\") as fr:\n",
        "  #name_you_want = pickle.load(fr)\n",
        "  X_pitch_changed_mel_1_load = pickle.load(fr)"
      ]
    },
    {
      "cell_type": "code",
      "execution_count": null,
      "metadata": {
        "id": "j5_bWfONhyp6"
      },
      "outputs": [],
      "source": [
        "#DON'T RUN IF NOT NECESSARY\n",
        "#load stretched mel pickle data\n",
        "\n",
        "rate = 1.2\n",
        "\n",
        "file_name = IRMAS_path + \"/aug/X_stretched_mel_\" + str(rate) + \".pickle\"\n",
        "\n",
        "with open(file_name,\"rb\") as fr:\n",
        "  temp = pickle.load(fr)\n",
        "  #X_stretched_mel_load = pickle.load(fr)\n",
        "temp2 = np.concatenate((temp,temp), axis=2)\n",
        "temp3 = np.resize(temp2, (5364, 128, 259))\n",
        "X_stretched_mel_12_load = []\n",
        "for i in range(5364):\n",
        "  X_stretched_mel_12_load.append(temp3[i])"
      ]
    },
    {
      "cell_type": "code",
      "execution_count": null,
      "metadata": {
        "colab": {
          "base_uri": "https://localhost:8080/"
        },
        "id": "hxau5SathAUg",
        "outputId": "8ce5419c-1db6-4246-954d-e35b70815114"
      },
      "outputs": [
        {
          "output_type": "stream",
          "name": "stdout",
          "text": [
            "21456\n",
            "21456\n"
          ]
        }
      ],
      "source": [
        "#train_val set augmentation\n",
        "\n",
        "X_train_val_aug = X_train_val_mel_load\n",
        "Y_train_val_aug = Y_train_val_load\n",
        "X_train_val_aug = X_train_val_aug + X_shifted_mel__2_load\n",
        "Y_train_val_aug = Y_train_val_aug + Y_train_val_load\n",
        "X_train_val_aug = X_train_val_aug + X_shifted_mel_2_load\n",
        "Y_train_val_aug = Y_train_val_aug + Y_train_val_load\n",
        "X_train_val_aug = X_train_val_aug + X_pitch_changed_mel_1_load\n",
        "Y_train_val_aug = Y_train_val_aug + Y_train_val_load\n",
        "#X_train_val_aug = X_train_val_aug + X_stretched_mel_12_load\n",
        "#Y_train_val_aug = Y_train_val_aug + Y_train_val_load\n",
        "\n",
        "print(len(X_train_val_aug))\n",
        "print(len(Y_train_val_aug))"
      ]
    },
    {
      "cell_type": "code",
      "execution_count": null,
      "metadata": {
        "colab": {
          "base_uri": "https://localhost:8080/"
        },
        "id": "ZAhBeiz5_yXD",
        "outputId": "8acc8fb2-3b29-4b52-8761-bbf5c8cab939"
      },
      "outputs": [
        {
          "output_type": "stream",
          "name": "stdout",
          "text": [
            "21456\n"
          ]
        }
      ],
      "source": [
        "#shuffle dataset\n",
        "\n",
        "shuffled = []\n",
        "for i in range(len(X_train_val_aug)):\n",
        "  data = [X_train_val_aug[i]]\n",
        "  data.append(Y_train_val_aug[i])\n",
        "  shuffled.append(data)\n",
        "random.shuffle(shuffled)\n",
        "print(len(shuffled))"
      ]
    },
    {
      "cell_type": "code",
      "execution_count": null,
      "metadata": {
        "colab": {
          "base_uri": "https://localhost:8080/"
        },
        "id": "qU0918Sma55E",
        "outputId": "85d6e6a8-3235-4f95-90f6-b0cb6d47ac16"
      },
      "outputs": [
        {
          "output_type": "stream",
          "name": "stdout",
          "text": [
            "4291\n"
          ]
        }
      ],
      "source": [
        "#make train, val set\n",
        "\n",
        "num_split = 5\n",
        "\n",
        "#shuffled = []\n",
        "#shuffled.append([[1,2],[1]])\n",
        "#shuffled.append([[2,3],[2]])\n",
        "#shuffled.append([[3,4],[3]])\n",
        "#shuffled.append([[4,5],[4]])\n",
        "#shuffled.append([[5,6],[5]])\n",
        "\n",
        "X_split = [[],[],[],[],[]]\n",
        "Y_split = [[],[],[],[],[]]\n",
        "val_size = int(len(shuffled)/num_split)\n",
        "print(val_size)\n",
        "for i in range(num_split):\n",
        "  for j in range(val_size*i, val_size*(i+1)):\n",
        "    X_split[i].append(shuffled[j][0])\n",
        "    Y_split[i].append(shuffled[j][1])\n",
        "\n",
        "X_train = [[],[],[],[],[]]\n",
        "X_val = []\n",
        "Y_train = [[],[],[],[],[]]\n",
        "Y_val = []\n",
        "for k in range(num_split):\n",
        "  for l in range(num_split):\n",
        "    if l==k:\n",
        "      X_val.append(X_split[l])\n",
        "      Y_val.append(Y_split[l])\n",
        "    else:\n",
        "      X_train[k].extend(X_split[l])\n",
        "      Y_train[k].extend(Y_split[l])"
      ]
    },
    {
      "cell_type": "code",
      "source": [
        "# Models\n",
        "class Model_CNN(nn.Module):\n",
        "  def __init__(self):\n",
        "    super(Model_CNN, self).__init__()\n",
        "    self.cnn1 = nn.Sequential(nn.Conv2d(1, 16, kernel_size=3, stride=1),\n",
        "                              nn.BatchNorm2d(16),\n",
        "                              nn.ReLU(),\n",
        "                              nn.MaxPool2d(kernel_size=2, stride=2))\n",
        "    self.cnn2 = nn.Sequential(nn.Conv2d(16, 32, kernel_size=3, stride=1),\n",
        "                              nn.BatchNorm2d(32),\n",
        "                              nn.ReLU(),\n",
        "                              nn.MaxPool2d(kernel_size=2, stride=2))\n",
        "    self.cnn3 = nn.Sequential(nn.Conv2d(32, 64, kernel_size=3, stride=1),\n",
        "                              nn.BatchNorm2d(64),\n",
        "                              nn.ReLU(), \n",
        "                              nn.MaxPool2d(kernel_size=2, stride=2))\n",
        "    self.cnn4 = nn.Sequential(nn.Conv2d(64, 128, kernel_size=3, stride=1),\n",
        "                              nn.BatchNorm2d(128),\n",
        "                              nn.ReLU(),\n",
        "                              nn.MaxPool2d(kernel_size=2, stride=2))\n",
        "    self.fcn1 = nn.Sequential(nn.Linear(10752, 1024, bias=True),\n",
        "                              nn.BatchNorm1d(1024),\n",
        "                              nn.ReLU(),\n",
        "                              nn.Dropout(0.5))\n",
        "    self.fcn2 = nn.Sequential(nn.Linear(1024, 128, bias=True),\n",
        "                              nn.BatchNorm1d(128),\n",
        "                              nn.ReLU(),\n",
        "                              nn.Dropout(0.5))\n",
        "    self.fcn3 = nn.Sequential(nn.Linear(128, 11, bias=True),\n",
        "                              nn.BatchNorm1d(11),\n",
        "                              nn.Dropout(0.5))\n",
        "    \n",
        "  def forward(self, x):\n",
        "    out = self.cnn1(x)\n",
        "    out = self.cnn2(out)\n",
        "    out = self.cnn3(out)\n",
        "    out = self.cnn4(out)\n",
        "    out = out.view(out.size(0), -1)\n",
        "    out = self.fcn1(out)\n",
        "    out = self.fcn2(out)\n",
        "    out = self.fcn3(out)\n",
        "    return out"
      ],
      "metadata": {
        "id": "yexa_OMD0QZR"
      },
      "execution_count": null,
      "outputs": []
    },
    {
      "cell_type": "code",
      "source": [
        "device = 'cuda' if torch.cuda.is_available() else 'cpu'\n",
        "torch.manual_seed(777)\n",
        "if device == 'cuda':\n",
        "  torch.cuda.manual_seed_all(777)"
      ],
      "metadata": {
        "id": "T1kwjJ7E3Kst"
      },
      "execution_count": null,
      "outputs": []
    },
    {
      "cell_type": "code",
      "source": [
        "# HyperParameters\n",
        "BATCH_SIZE = 32\n",
        "TRAINING_EPOCHS = 100\n",
        "LEARNING_RATE = 0.001"
      ],
      "metadata": {
        "id": "olx4vVDP3Nii"
      },
      "execution_count": null,
      "outputs": []
    },
    {
      "cell_type": "code",
      "execution_count": null,
      "metadata": {
        "id": "W-nSqxQI1f7I"
      },
      "outputs": [],
      "source": [
        "def model_train(model, loader_tr, loader_cv, training_epochs, criterion, optimizer):\n",
        "    loss_history = {'train': [], 'val': []}\n",
        "    \n",
        "    best_loss = float('inf')\n",
        "    best_epoch = 0\n",
        "    best_model = None\n",
        "\n",
        "    for epoch in range(training_epochs):\n",
        "      start_time = time.time()\n",
        "      cost_tr = 0.0\n",
        "      cost_cv = 0.0\n",
        "\n",
        "      model.train()\n",
        "      for x_tr, y_tr in loader_tr:\n",
        "        x_tr = x_tr.to(device)\n",
        "        y_tr = y_tr.to(device)\n",
        "        optimizer.zero_grad()\n",
        "        hypothesis = model(x_tr)\n",
        "        loss_tr = criterion(hypothesis, y_tr)\n",
        "        loss_tr.backward()\n",
        "        optimizer.step()\n",
        "        cost_tr += loss_tr\n",
        "      cost_tr = cost_tr / len(loader_tr)\n",
        "      loss_history['train'].append(cost_tr.cpu().detach().numpy())\n",
        "      with torch.no_grad():\n",
        "        model.eval()\n",
        "        for x_cv, y_cv in loader_cv:\n",
        "          x_cv = x_cv.to(device)\n",
        "          y_cv = y_cv.to(device)\n",
        "          prediction = model(x_cv)\n",
        "          loss_cv = criterion(prediction, y_cv)\n",
        "          cost_cv += loss_cv\n",
        "      cost_cv = cost_cv / len(loader_cv)\n",
        "      loss_history['val'].append(cost_cv.cpu().detach().numpy())\n",
        "      if cost_cv < best_loss:\n",
        "        best_loss = cost_cv\n",
        "        best_epoch = epoch + 1\n",
        "        best_model = deepcopy(model)\n",
        "      end_time = time.time()\n",
        "      elapsed_time = end_time - start_time\n",
        "\n",
        "      print('Epoch: %d/%d / Training Loss: %.6f / Validation Loss: %.6f / Time: %.2f (sec)' %(epoch+1, training_epochs, cost_tr, cost_cv, elapsed_time))\n",
        "\n",
        "    print('Finished training.')\n",
        "        \n",
        "    print('best val_loss = %.6f at epoch %d' %(best_loss, best_epoch))\n",
        "    # model.load_state_dict(best_model_wts)\n",
        "\n",
        "    return model, best_model, best_loss, loss_history"
      ]
    },
    {
      "cell_type": "code",
      "source": [
        "def model_train_cross_val(model, X_train, X_val, Y_train, Y_val, num_split, training_epochs, criterion, learning_rate):\n",
        "  \n",
        "  best_loss = float('inf')\n",
        "  best_model = None\n",
        "  best_model_loss_hist = None\n",
        "  best_model_num = 0\n",
        "\n",
        "  model_list = []\n",
        "  for i in range(num_split):\n",
        "    print('##### split %d #####' %(i+1))\n",
        "    model_ = deepcopy(model)\n",
        "    opt = torch.optim.Adam(model_.parameters(), lr=learning_rate)\n",
        "\n",
        "    x_tr = np.array(X_train[i]).reshape((-1,1,128,259))\n",
        "    print(x_tr.shape)\n",
        "    x_cv = np.array(X_val[i]).reshape((-1,1,128,259))\n",
        "    y_tr = np.array(Y_train[i])\n",
        "    y_cv = np.array(Y_val[i])\n",
        "\n",
        "    x_mask = np.zeros([x_tr.shape[0], 1, 128, 259])\n",
        "    for j in range(x_tr.shape[0]):\n",
        "      time_mask_sgram = time_masking(x_tr[j, 0, :, :], param=int(x_tr[j, 0, :, :].shape[1]*0.2))\n",
        "      mask_sgram = freq_masking(time_mask_sgram, param=int(time_mask_sgram.shape[0]*0.2))\n",
        "      x_mask[j,0, :, :] = np.array(mask_sgram)\n",
        "    x_tr = np.vstack([x_tr, x_mask])\n",
        "    y_tr = np.append(y_tr, y_tr)\n",
        "\n",
        "    x_tr = torch.FloatTensor(x_tr)\n",
        "    x_cv = torch.FloatTensor(x_cv)\n",
        "    y_tr = torch.from_numpy(y_tr)\n",
        "    y_cv = torch.from_numpy(y_cv)\n",
        "\n",
        "    # Preparing DataLoader\n",
        "    data_tr = TensorDataset(x_tr, y_tr)\n",
        "    data_cv = TensorDataset(x_cv, y_cv)\n",
        "\n",
        "    loader_tr = DataLoader(data_tr, batch_size=BATCH_SIZE, shuffle=True, drop_last=True)\n",
        "    loader_cv = DataLoader(data_cv, batch_size=BATCH_SIZE*2, shuffle=False, drop_last=False)\n",
        "\n",
        "    m, b_m, b_l,l = model_train(model_, loader_tr, loader_cv, training_epochs, criterion, opt)\n",
        "    if b_l < best_loss:\n",
        "      best_loss = b_l\n",
        "      best_model = deepcopy(b_m)\n",
        "      best_model_loss_hist = deepcopy(l)\n",
        "      best_model_num = i+1\n",
        "\n",
        "  print('##### cross validation finished #####')\n",
        "  print('best model in split %d with loss %.6f' %(best_model_num, best_loss))\n",
        "  return best_model, best_model_loss_hist"
      ],
      "metadata": {
        "id": "rp3EBVgGWfSe"
      },
      "execution_count": null,
      "outputs": []
    },
    {
      "cell_type": "code",
      "source": [
        "def test_model(model, x_test, y_test):\n",
        "  with torch.no_grad():\n",
        "    x = x_test.to(device)\n",
        "    y = y_test.to(device)\n",
        "    prediction = model(x)\n",
        "    correct_prediction = torch.argmax(prediction, 1) == y\n",
        "    accuracy = correct_prediction.float().mean()\n",
        "    print('Accuracy:', accuracy.item())"
      ],
      "metadata": {
        "id": "vypHfI7TvUgd"
      },
      "execution_count": null,
      "outputs": []
    },
    {
      "cell_type": "code",
      "source": [
        "#RUN IF USE FUNCTION \"model_train\"\n",
        "X_tr = np.array(X_train[0]).reshape((-1,1,128,259))\n",
        "X_cv = np.array(X_val[0]).reshape((-1,1,128,259))\n",
        "X_tt = np.array(X_test_mel_load).reshape((-1,1,128,259))\n",
        "Y_tr = np.array(Y_train[0])\n",
        "Y_cv = np.array(Y_val[0])\n",
        "Y_tt = np.array(Y_test_load)"
      ],
      "metadata": {
        "id": "2TqkfYnPktwU"
      },
      "execution_count": null,
      "outputs": []
    },
    {
      "cell_type": "code",
      "source": [
        "#RUN IF USE FUNCTION \"model_train\"\n",
        "# Masking augmentation for tr data\n",
        "X_mask = np.zeros([X_tr.shape[0], 1, 128, 259])\n",
        "for i in range(X_tr.shape[0]):\n",
        "  time_mask_sgram = time_masking(X_tr[i, 0, :, :], param=int(X_tr[i, 0, :, :].shape[1]*0.2))\n",
        "  mask_sgram = freq_masking(time_mask_sgram, param=int(time_mask_sgram.shape[0]*0.2))\n",
        "  X_mask[i,0, :, :] = np.array(mask_sgram)\n",
        "X_tr = np.vstack([X_tr, X_mask])\n",
        "Y_tr = np.append(Y_tr, Y_tr)"
      ],
      "metadata": {
        "id": "CFhhE44N4vQp"
      },
      "execution_count": null,
      "outputs": []
    },
    {
      "cell_type": "code",
      "source": [
        "#RUN IF USE FUNCTION \"model_train\"\n",
        "# numpy-to-tensor\n",
        "X_tr = torch.FloatTensor(X_tr)\n",
        "X_cv = torch.FloatTensor(X_cv)\n",
        "X_tt = torch.FloatTensor(X_tt)\n",
        "Y_tr = torch.from_numpy(Y_tr)\n",
        "Y_cv = torch.from_numpy(Y_cv)\n",
        "Y_tt = torch.from_numpy(Y_tt)\n",
        "\n",
        "# Preparing DataLoader\n",
        "data_tr = TensorDataset(X_tr, Y_tr)\n",
        "data_cv = TensorDataset(X_cv, Y_cv)\n",
        "data_tt = TensorDataset(X_tt, Y_tt)\n",
        "\n",
        "LOADER_TR = DataLoader(data_tr, batch_size=BATCH_SIZE, shuffle=True, drop_last=True)\n",
        "LOADER_CV = DataLoader(data_cv, batch_size=BATCH_SIZE*2, shuffle=False, drop_last=False)\n",
        "LOADER_TT = DataLoader(data_tt, batch_size=BATCH_SIZE*2, shuffle=False, drop_last=False)"
      ],
      "metadata": {
        "id": "LrFwjo694rVY"
      },
      "execution_count": null,
      "outputs": []
    },
    {
      "cell_type": "code",
      "source": [
        "#RUN IF USE FUNCTION \"model_train_cross_val\"\n",
        "X_tt = np.array(X_test_mel_load).reshape((-1,1,128,259))\n",
        "Y_tt = np.array(Y_test_load)\n",
        "\n",
        "X_tt = torch.FloatTensor(X_tt)\n",
        "Y_tt = torch.from_numpy(Y_tt)\n",
        "\n",
        "data_tt = TensorDataset(X_tt, Y_tt)"
      ],
      "metadata": {
        "id": "b9Og3RtP2hNx"
      },
      "execution_count": null,
      "outputs": []
    },
    {
      "cell_type": "code",
      "execution_count": null,
      "metadata": {
        "id": "CHJn3pTK1f7J"
      },
      "outputs": [],
      "source": [
        "MODEL = Model_CNN().to(device)\n",
        "CRITERION = torch.nn.CrossEntropyLoss().to(device)\n",
        "OPTIMIZER = torch.optim.Adam(MODEL.parameters(), lr=LEARNING_RATE)\n",
        "model, best_model, best_loss, loss_hist = model_train(MODEL,LOADER_TR, LOADER_CV, TRAINING_EPOCHS, CRITERION, OPTIMIZER)\n",
        "#best_model, loss_hist = model_train_cross_val(MODEL, X_train, X_val, Y_train, Y_val, num_split, TRAINING_EPOCHS, CRITERION, LEARNING_RATE)"
      ]
    },
    {
      "cell_type": "code",
      "source": [
        "#DON'T RUN IF NOT NECESSARY\n",
        "#save model\n",
        "torch.save(model.state_dict(), IRMAS_path + \"/models/aug_final\")\n",
        "torch.save(best_model.state_dict(), IRMAS_path + \"/models/aug_bestval\")"
      ],
      "metadata": {
        "id": "hptHGPmvMyyv"
      },
      "execution_count": null,
      "outputs": []
    },
    {
      "cell_type": "code",
      "source": [
        "#DON'T RUN IF NOT NECESSARY\n",
        "#load model\n",
        "model = Model_CNN.to(device)\n",
        "best_model = Model_CNN.to(device)\n",
        "model.load_state_dict(torch.load(IRMAS_path + \"/models/aug_final\"))\n",
        "best_model.load_state_dict(torch.load(IRMAS_path + \"/model/aug_bestval\"))"
      ],
      "metadata": {
        "colab": {
          "base_uri": "https://localhost:8080/"
        },
        "id": "lpM-G2IxM69w",
        "outputId": "a881c57e-53b7-48f7-96a8-9d67d561c6be"
      },
      "execution_count": null,
      "outputs": [
        {
          "output_type": "execute_result",
          "data": {
            "text/plain": [
              "<All keys matched successfully>"
            ]
          },
          "metadata": {},
          "execution_count": 56
        }
      ]
    },
    {
      "cell_type": "code",
      "source": [
        "test_model(best_model, X_tt, Y_tt)"
      ],
      "metadata": {
        "colab": {
          "base_uri": "https://localhost:8080/"
        },
        "id": "WL85US6av-VQ",
        "outputId": "d54d4ffd-8f4f-4806-876d-c76c6e0399fc"
      },
      "execution_count": null,
      "outputs": [
        {
          "output_type": "stream",
          "name": "stdout",
          "text": [
            "Accuracy: 0.7501863837242126\n"
          ]
        }
      ]
    },
    {
      "cell_type": "code",
      "source": [
        "# Plotting training/cross-validation losses over epochs\n",
        "plt.title(\"Train-Validation Loss\")\n",
        "plt.plot(range(1, TRAINING_EPOCHS+1), loss_hist['train'], label='TRAIN')\n",
        "plt.plot(range(1, TRAINING_EPOCHS+1), loss_hist['val'], label='VALIDATION')\n",
        "plt.ylabel('LOSS')\n",
        "plt.xlabel('TRAINING EPOCHS')\n",
        "plt.legend()\n",
        "plt.show()"
      ],
      "metadata": {
        "colab": {
          "base_uri": "https://localhost:8080/",
          "height": 295
        },
        "id": "8559BOhtr-re",
        "outputId": "b9934893-6885-447e-8e79-e91f49c18def"
      },
      "execution_count": null,
      "outputs": [
        {
          "output_type": "display_data",
          "data": {
            "text/plain": [
              "<Figure size 432x288 with 1 Axes>"
            ],
            "image/png": "[encoded data removed]"
          },
          "metadata": {
            "needs_background": "light"
          }
        }
      ]
    }
  ],
  "metadata": {
    "accelerator": "GPU",
    "colab": {
      "machine_shape": "hm",
      "provenance": []
    },
    "gpuClass": "premium",
    "kernelspec": {
      "display_name": "Python 3.9.12 ('base')",
      "language": "python",
      "name": "python3"
    },
    "language_info": {
      "codemirror_mode": {
        "name": "ipython",
        "version": 3
      },
      "file_extension": ".py",
      "mimetype": "text/x-python",
      "name": "python",
      "nbconvert_exporter": "python",
      "pygments_lexer": "ipython3",
      "version": "3.9.12"
    },
    "vscode": {
      "interpreter": {
        "hash": "547132c053bedff7517b10c81de3ec1901b75562b5ad26bb1452907ff1b0f193"
      }
    }
  },
  "nbformat": 4,
  "nbformat_minor": 0
}